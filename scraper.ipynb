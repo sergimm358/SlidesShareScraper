{
 "cells": [
  {
   "cell_type": "code",
   "execution_count": 14,
   "metadata": {},
   "outputs": [],
   "source": [
    "import requests\n",
    "from selectolax.parser import HTMLParser\n",
    "from PIL import Image\n",
    "from io import BytesIO\n",
    "\n",
    "import asyncio\n",
    "import aiohttp"
   ]
  },
  {
   "cell_type": "code",
   "execution_count": 15,
   "metadata": {},
   "outputs": [],
   "source": [
    "url = 'https://es.slideshare.net/odayr1979/assimil-el-nuevo-italiano-sin-esfuerzo-pdf'"
   ]
  },
  {
   "cell_type": "code",
   "execution_count": 16,
   "metadata": {},
   "outputs": [],
   "source": [
    "headers = {\n",
    "    \"User-Agent\": \"Mozilla/5.0 (Macintosh; Intel Mac OS X 10_15_7) AppleWebKit/537.36 (KHTML, like Gecko) Chrome/104.0.0.0 Safari/537.36\",\n",
    "    \"Accept-Language\": \"es-ES,es;q=0.9,en;q=0.8\",\n",
    "}\n",
    "response = requests.get(url=url, headers=headers)\n",
    "if response.status_code == 200: parser = HTMLParser(response.text)"
   ]
  },
  {
   "cell_type": "code",
   "execution_count": 17,
   "metadata": {},
   "outputs": [],
   "source": [
    "imgUrlList = []\n",
    "slideList = parser.css_first('#slide-container').css('div[class*=slide][data-index]')\n",
    "for i in range(len(slideList)):\n",
    "    slide = slideList[i]\n",
    "    imgUrl = slide.css_first('source').attributes['srcset'].split(',')[-1].strip(' ').split(' ')[0]\n",
    "    imgUrlList.append(imgUrl)"
   ]
  },
  {
   "cell_type": "code",
   "execution_count": 44,
   "metadata": {},
   "outputs": [],
   "source": [
    "async def fetchImages(url, session):\n",
    "    async with session.get(url) as response:\n",
    "        imgContent = await response.content.read()\n",
    "        return imgContent"
   ]
  },
  {
   "cell_type": "code",
   "execution_count": 46,
   "metadata": {},
   "outputs": [
    {
     "name": "stdout",
     "output_type": "stream",
     "text": [
      "Downloading images from slideshare...\n",
      "converting images to RGB...\n",
      "saving pdf file ./output/Assimil.pdf\n"
     ]
    }
   ],
   "source": [
    "pdfPath = './output/Assimil.pdf'\n",
    "imgList = []\n",
    "\n",
    "async with aiohttp.ClientSession() as session:\n",
    "    tasks = []\n",
    "    print('Downloading images from slideshare...')\n",
    "    for imgUrl in imgUrlList:\n",
    "        tasks.append(asyncio.ensure_future(fetchImages(imgUrl, session)))\n",
    "    imageBytes = await asyncio.gather(*tasks)\n",
    "    print('converting images to RGB...')\n",
    "    for im in imageBytes:\n",
    "        img = Image.open(BytesIO(im)).convert('RGB')\n",
    "        imgList.append(img)\n",
    "    print(f'saving pdf file {pdfPath}')\n",
    "    imgList[0].save(fp=pdfPath, format='PDF', resolution=100.0, save_all=True, append_images=imgList[1:])\n"
   ]
  },
  {
   "cell_type": "code",
   "execution_count": null,
   "metadata": {},
   "outputs": [],
   "source": []
  }
 ],
 "metadata": {
  "kernelspec": {
   "display_name": "base",
   "language": "python",
   "name": "python3"
  },
  "language_info": {
   "codemirror_mode": {
    "name": "ipython",
    "version": 3
   },
   "file_extension": ".py",
   "mimetype": "text/x-python",
   "name": "python",
   "nbconvert_exporter": "python",
   "pygments_lexer": "ipython3",
   "version": "3.9.2"
  },
  "orig_nbformat": 4,
  "vscode": {
   "interpreter": {
    "hash": "c00285d8be7f31c089958a425c5c5953dbb58f6a6af5eeebdfbe32b70c99644c"
   }
  }
 },
 "nbformat": 4,
 "nbformat_minor": 2
}
